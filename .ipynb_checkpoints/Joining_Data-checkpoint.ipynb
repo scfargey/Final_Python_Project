{
 "cells": [
  {
   "cell_type": "code",
   "execution_count": null,
   "id": "326857f4-4bf3-475f-bf30-3ee67d68188a",
   "metadata": {},
   "outputs": [],
   "source": [
    "#Join the data from Part 1 with the data from Part 2 to create a new dataframe.\n"
   ]
  },
  {
   "cell_type": "code",
   "execution_count": null,
   "id": "4e6bcc64-1e14-4c8a-9f47-a2350a747048",
   "metadata": {},
   "outputs": [],
   "source": [
    "#Provide a visualization that you used as part of your EDA process. Explain the initial pattern or relationship \n",
    "#you discoved through this visualization."
   ]
  },
  {
   "cell_type": "code",
   "execution_count": null,
   "id": "a3311272-87af-40b1-a335-3e583fa8be9e",
   "metadata": {},
   "outputs": [],
   "source": [
    "#Put all your results in an SQLite3 database (remember, SQLite stores its databases as files in your local machine - \n",
    "#make sure to create your database in your project's data/ directory!)\n"
   ]
  },
  {
   "cell_type": "code",
   "execution_count": null,
   "id": "01090cff-6876-45c3-ab0f-f74c346ba27e",
   "metadata": {},
   "outputs": [],
   "source": [
    "#Look at the data before and after the join to validate your data."
   ]
  },
  {
   "cell_type": "code",
   "execution_count": null,
   "id": "19b17eca-8b6a-4f51-bebc-81aafa70e714",
   "metadata": {},
   "outputs": [],
   "source": []
  },
  {
   "cell_type": "code",
   "execution_count": null,
   "id": "4eeb8469-cd8c-49f3-bee8-2fef505afc73",
   "metadata": {},
   "outputs": [],
   "source": []
  }
 ],
 "metadata": {
  "kernelspec": {
   "display_name": "Python 3 (ipykernel)",
   "language": "python",
   "name": "python3"
  },
  "language_info": {
   "codemirror_mode": {
    "name": "ipython",
    "version": 3
   },
   "file_extension": ".py",
   "mimetype": "text/x-python",
   "name": "python",
   "nbconvert_exporter": "python",
   "pygments_lexer": "ipython3",
   "version": "3.11.7"
  }
 },
 "nbformat": 4,
 "nbformat_minor": 5
}
