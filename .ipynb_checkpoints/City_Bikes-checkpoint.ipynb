{
 "cells": [
  {
   "cell_type": "code",
   "execution_count": 1,
   "id": "1eeb02bc-caaf-43d4-a2c3-1d991e71cb64",
   "metadata": {},
   "outputs": [
    {
     "name": "stdout",
     "output_type": "stream",
     "text": [
      "Request was successful!\n",
      "[{'company': ['Vanncouver Bike Share Inc.', 'CycleHop LLC', 'City of Vancouver', 'Shaw Communications Inc.', 'Fifteen'], 'gbfs_href': 'https://vancouver-gbfs.smoove.pro/gbfs/2/gbfs.json', 'href': '/v2/networks/mobibikes', 'id': 'mobibikes', 'location': {'city': 'Vancouver', 'country': 'CA', 'latitude': 49.2827, 'longitude': -123.1207}, 'name': 'Mobi'}]\n"
     ]
    }
   ],
   "source": [
    "#Send a request to CityBikes for the city of your choice.\n",
    "\n",
    " #Send a request to CityBikes for the city of your choice.\n",
    "\n",
    "\n",
    "import requests\n",
    "\n",
    "# Endpoint\n",
    "url = 'http://api.citybik.es/v2/networks'\n",
    "\n",
    "# Send a GET request\n",
    "response = requests.get(url)\n",
    "\n",
    "# Check if the request was successful\n",
    "if response.status_code == 200:\n",
    "    print(\"Request was successful!\")\n",
    "    # Parse the response content\n",
    "    data = response.json()\n",
    "    \n",
    "    # Filter networks for the city of Vancouver\n",
    "    vancouver_networks = [network for network in data['networks'] if 'Vancouver' in network['location']['city']]\n",
    "    \n",
    "    # Print the filtered networks\n",
    "    print(vancouver_networks)\n",
    "else:\n",
    "    print(f\"Request failed with status code: {response.status_code}\")\n",
    "\n",
    " "
   ]
  },
  {
   "cell_type": "code",
   "execution_count": 1,
   "id": "89feefd4-7357-4701-b380-d15b049829e2",
   "metadata": {},
   "outputs": [
    {
     "name": "stdout",
     "output_type": "stream",
     "text": [
      "Request was successful!\n"
     ]
    }
   ],
   "source": [
    "import requests\n",
    "import json\n",
    "\n",
    "# Endpoint to get the MobiBikes network in Vancouver\n",
    "url = 'http://api.citybik.es/v2/networks/mobibikes'\n",
    "\n",
    "# Send a GET request\n",
    "response = requests.get(url)\n",
    "\n",
    "# Check if the request was successful\n",
    "if response.status_code == 200:\n",
    "    print(\"Request was successful!\")\n",
    "    # Parse the response content\n",
    "    data = response.json()\n",
    "    \n",
    "    # Print the entire JSON response in a formatted manner\n",
    "    #print(json.dumps(data, indent=3))\n",
    "else:\n",
    "    print(f\"Request failed with status code: {response.status_code}\")\n"
   ]
  },
  {
   "cell_type": "code",
   "execution_count": 17,
   "id": "3ed08fb1-680d-4834-9044-dbf4b26e3004",
   "metadata": {},
   "outputs": [
    {
     "name": "stdout",
     "output_type": "stream",
     "text": [
      "                                  name   latitude   longitude  free_bikes  \\\n",
      "0                        10th & Cambie  49.262487 -123.114397           1   \n",
      "1          Yaletown-Roundhouse Station  49.274566 -123.121817          14   \n",
      "2                    Dunsmuir & Beatty  49.279764 -123.110154           1   \n",
      "3             12th & Yukon (City Hall)  49.260599 -123.113504           1   \n",
      "4                            8th & Ash  49.264215 -123.117772           2   \n",
      "..                                 ...        ...         ...         ...   \n",
      "248     West Mall Swing Space Building  49.263073 -123.254307           1   \n",
      "249                    Orchard Commons  49.259999 -123.250902           8   \n",
      "250  Wesbrook Village - Berton & Shrum  49.254780 -123.236210           1   \n",
      "251                  Adanac & Lakewood  49.277510 -123.061429           8   \n",
      "252                  Maple Tree Square  49.283482 -123.103738          16   \n",
      "\n",
      "     ebikes  empty_slots  \n",
      "0         1           33  \n",
      "1         0            0  \n",
      "2         1           24  \n",
      "3         0           13  \n",
      "4         0           14  \n",
      "..      ...          ...  \n",
      "248       0           17  \n",
      "249       8           11  \n",
      "250       1           27  \n",
      "251       1           12  \n",
      "252       0            8  \n",
      "\n",
      "[253 rows x 6 columns]\n"
     ]
    }
   ],
   "source": [
    "#Put your parsed results into a DataFrame.\n",
    "\n",
    "import pandas as pd\n",
    "\n",
    "# Check if 'data' exists and contains the network and stations\n",
    "if 'data' in globals() and 'network' in data and 'stations' in data['network']:\n",
    "    # Extract stations information\n",
    "    stations = data['network']['stations']\n",
    "    \n",
    "    # Create a list to hold the extracted data\n",
    "    extracted_data = []\n",
    "    \n",
    "    # Loop through each station and extract the required information\n",
    "    for station in stations:\n",
    "        station_info = {\n",
    "            \"name\": station.get(\"name\"),\n",
    "            \"latitude\": station.get(\"latitude\"),\n",
    "            \"longitude\": station.get(\"longitude\"),\n",
    "            \"free_bikes\": station.get(\"free_bikes\"),\n",
    "            \"ebikes\": station.get(\"extra\", {}).get(\"ebikes\"),\n",
    "            \"empty_slots\": station.get(\"empty_slots\")\n",
    "        }\n",
    "        extracted_data.append(station_info)\n",
    "    \n",
    "    # Convert the extracted data to a DataFrame\n",
    "    df = pd.DataFrame(extracted_data)\n",
    "    \n",
    "    # Display the DataFrame\n",
    "    print(df)\n",
    "else:\n",
    "    print(\"Data not available for conversion to DataFrame.\")\n"
   ]
  },
  {
   "cell_type": "code",
   "execution_count": 18,
   "id": "875906be-0f41-4038-9341-6e9821a3f6b7",
   "metadata": {},
   "outputs": [],
   "source": [
    "# Save the DataFrame to a CSV file\n",
    "df.to_csv('bike_stations.csv', index=False)"
   ]
  },
  {
   "cell_type": "code",
   "execution_count": null,
   "id": "a10d1d5b-c836-4d35-aad9-92664dbb572e",
   "metadata": {},
   "outputs": [],
   "source": []
  }
 ],
 "metadata": {
  "kernelspec": {
   "display_name": "Python 3 (ipykernel)",
   "language": "python",
   "name": "python3"
  },
  "language_info": {
   "codemirror_mode": {
    "name": "ipython",
    "version": 3
   },
   "file_extension": ".py",
   "mimetype": "text/x-python",
   "name": "python",
   "nbconvert_exporter": "python",
   "pygments_lexer": "ipython3",
   "version": "3.11.7"
  }
 },
 "nbformat": 4,
 "nbformat_minor": 5
}
