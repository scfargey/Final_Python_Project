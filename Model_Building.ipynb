{
 "cells": [
  {
   "cell_type": "code",
   "execution_count": null,
   "id": "c4895873-53b4-4094-a1c2-f4af8e04fe6d",
   "metadata": {},
   "outputs": [],
   "source": [
    "#Build a regression model.\n"
   ]
  },
  {
   "cell_type": "code",
   "execution_count": null,
   "id": "b3fb66bf-6b93-491d-9e55-5db8bb1b407a",
   "metadata": {},
   "outputs": [],
   "source": [
    "#Provide model output and an interpretation of the results."
   ]
  },
  {
   "cell_type": "code",
   "execution_count": null,
   "id": "309fad20-72c0-457f-a1d4-2023b37e0314",
   "metadata": {},
   "outputs": [],
   "source": [
    "#Stretch\n",
    "#How can you turn the regression model into a classification model?"
   ]
  }
 ],
 "metadata": {
  "kernelspec": {
   "display_name": "Python 3 (ipykernel)",
   "language": "python",
   "name": "python3"
  },
  "language_info": {
   "codemirror_mode": {
    "name": "ipython",
    "version": 3
   },
   "file_extension": ".py",
   "mimetype": "text/x-python",
   "name": "python",
   "nbconvert_exporter": "python",
   "pygments_lexer": "ipython3",
   "version": "3.11.7"
  }
 },
 "nbformat": 4,
 "nbformat_minor": 5
}
