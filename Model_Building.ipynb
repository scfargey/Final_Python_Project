{
 "cells": [
  {
   "cell_type": "code",
   "execution_count": 1,
   "id": "55545946",
   "metadata": {},
   "outputs": [
    {
     "name": "stdout",
     "output_type": "stream",
     "text": [
      "c:\\Users\\spencer.fargey\\AppData\\Local\\anaconda3\\python.exe\n",
      "Statsmodels imported successfully.\n"
     ]
    }
   ],
   "source": [
    "import sys\n",
    "print(sys.executable)\n",
    "\n",
    "# Verify statsmodels installation\n",
    "try:\n",
    "    import statsmodels.api as sm\n",
    "    print(\"Statsmodels imported successfully.\")\n",
    "except ImportError as e:\n",
    "    print(\"Error importing statsmodels:\", e)\n"
   ]
  },
  {
   "cell_type": "code",
   "execution_count": 12,
   "id": "7eb1cc8b",
   "metadata": {},
   "outputs": [],
   "source": [
    "import pandas as pd\n",
    "import numpy as np\n",
    "import statsmodels.api as sm\n",
    "from sklearn.model_selection import train_test_split\n",
    "from sklearn.metrics import mean_absolute_error, mean_squared_error\n",
    "\n",
    "# Load the data\n",
    "bike_stations_df = pd.read_csv(\"Bike_stations.csv\")\n",
    "merged_restaurants_df = pd.read_csv(\"merged_restaurants.csv\")"
   ]
  },
  {
   "cell_type": "code",
   "execution_count": 11,
   "id": "b3fb66bf-6b93-491d-9e55-5db8bb1b407a",
   "metadata": {},
   "outputs": [
    {
     "name": "stdout",
     "output_type": "stream",
     "text": [
      "                            OLS Regression Results                            \n",
      "==============================================================================\n",
      "Dep. Variable:                 rating   R-squared:                       0.009\n",
      "Model:                            OLS   Adj. R-squared:                  0.009\n",
      "Method:                 Least Squares   F-statistic:                     36.44\n",
      "Date:                Fri, 12 Jul 2024   Prob (F-statistic):           1.72e-09\n",
      "Time:                        10:12:32   Log-Likelihood:                -1768.5\n",
      "No. Observations:                4030   AIC:                             3541.\n",
      "Df Residuals:                    4028   BIC:                             3554.\n",
      "Df Model:                           1                                         \n",
      "Covariance Type:            nonrobust                                         \n",
      "==============================================================================\n",
      "                 coef    std err          t      P>|t|      [0.025      0.975]\n",
      "------------------------------------------------------------------------------\n",
      "const          4.0140      0.009    427.547      0.000       3.996       4.032\n",
      "free_bikes     0.0057      0.001      6.037      0.000       0.004       0.008\n",
      "==============================================================================\n",
      "Omnibus:                      700.969   Durbin-Watson:                   2.031\n",
      "Prob(Omnibus):                  0.000   Jarque-Bera (JB):             1513.800\n",
      "Skew:                          -1.014   Prob(JB):                         0.00\n",
      "Kurtosis:                       5.215   Cond. No.                         15.8\n",
      "==============================================================================\n",
      "\n",
      "Notes:\n",
      "[1] Standard Errors assume that the covariance matrix of the errors is correctly specified.\n",
      "MAE: 0.27251208073430555\n",
      "RMSE: 0.3516676673588158\n",
      "R^2: 0.008965622872608603\n"
     ]
    },
    {
     "name": "stderr",
     "output_type": "stream",
     "text": [
      "C:\\Users\\spencer.fargey\\AppData\\Local\\Temp\\ipykernel_32360\\3621541987.py:15: SettingWithCopyWarning: \n",
      "A value is trying to be set on a copy of a slice from a DataFrame\n",
      "\n",
      "See the caveats in the documentation: https://pandas.pydata.org/pandas-docs/stable/user_guide/indexing.html#returning-a-view-versus-a-copy\n",
      "  yelp_df.dropna(subset=['rating'], inplace=True)\n"
     ]
    }
   ],
   "source": [
    "# Filter the data to keep only Yelp data\n",
    "yelp_df = merged_restaurants_df[merged_restaurants_df['source'] == 'Yelp']\n",
    "\n",
    "# Drop rows with missing values in the target variable (rating)\n",
    "yelp_df.dropna(subset=['rating'], inplace=True)\n",
    "\n",
    "# Merge bike_stations data with Yelp data using 'name' instead of 'station_name'\n",
    "merged_df = pd.merge(yelp_df, bike_stations_df[['name', 'free_bikes']], left_on='station_name', right_on='name', how='left')\n",
    "\n",
    "# Handle missing values in features\n",
    "merged_df['review_count'] = merged_df['review_count'].fillna(0)\n",
    "merged_df['distance'] = merged_df['distance'].fillna(0)\n",
    "merged_df['free_bikes'] = merged_df['free_bikes'].fillna(0)\n",
    "\n",
    "# Define the target variable and features\n",
    "target = 'rating'\n",
    "features = ['free_bikes']\n",
    "\n",
    "# Prepare the feature matrix (X) and target vector (y)\n",
    "X = merged_df[features]\n",
    "y = merged_df[target]\n",
    "\n",
    "# Add a constant to the features (required for statsmodels)\n",
    "X = sm.add_constant(X)\n",
    "\n",
    "# Split the data into training and testing sets\n",
    "X_train, X_test, y_train, y_test = train_test_split(X, y, test_size=0.2, random_state=42)\n",
    "\n",
    "# Build and train the regression model\n",
    "model = sm.OLS(y_train, X_train).fit()\n",
    "\n",
    "# Make predictions\n",
    "y_pred = model.predict(X_test)\n",
    "\n",
    "# Evaluate the model\n",
    "mae = mean_absolute_error(y_test, y_pred)\n",
    "mse = mean_squared_error(y_test, y_pred)\n",
    "rmse = np.sqrt(mse)\n",
    "r2 = model.rsquared\n",
    "\n",
    "print(model.summary())\n",
    "print(f'MAE: {mae}')\n",
    "print(f'RMSE: {rmse}')\n",
    "print(f'R^2: {r2}')\n"
   ]
  },
  {
   "cell_type": "code",
   "execution_count": null,
   "id": "309fad20-72c0-457f-a1d4-2023b37e0314",
   "metadata": {},
   "outputs": [],
   "source": [
    "#Stretch\n",
    "#How can you turn the regression model into a classification model?"
   ]
  }
 ],
 "metadata": {
  "kernelspec": {
   "display_name": "Python 3 (ipykernel)",
   "language": "python",
   "name": "python3"
  },
  "language_info": {
   "codemirror_mode": {
    "name": "ipython",
    "version": 3
   },
   "file_extension": ".py",
   "mimetype": "text/x-python",
   "name": "python",
   "nbconvert_exporter": "python",
   "pygments_lexer": "ipython3",
   "version": "3.11.7"
  }
 },
 "nbformat": 4,
 "nbformat_minor": 5
}
